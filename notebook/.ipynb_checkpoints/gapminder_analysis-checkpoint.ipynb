{
 "cells": [
  {
   "cell_type": "markdown",
   "id": "fe1c065d-65d3-45fe-ba0d-20162ab628ae",
   "metadata": {},
   "source": [
    "### Load Libraries"
   ]
  },
  {
   "cell_type": "code",
   "execution_count": 93,
   "id": "02a70b73-b1a7-44c3-9f76-9d20125a59f1",
   "metadata": {},
   "outputs": [],
   "source": [
    "import pandas as pd\n",
    "import matplotlib.pyplot as plt\n",
    "import seaborn as sns\n",
    "\n",
    "sns.set(rc={'figure.figsize':(8,6)})"
   ]
  },
  {
   "cell_type": "markdown",
   "id": "89967822-acc8-4b99-ad41-07f40d4a97da",
   "metadata": {},
   "source": [
    "### Data Preprocessing"
   ]
  },
  {
   "cell_type": "markdown",
   "id": "5dbb37be-3c24-4a33-bf72-cb2c1df837ba",
   "metadata": {},
   "source": [
    "### Import Data"
   ]
  },
  {
   "cell_type": "markdown",
   "id": "95238f52-d42a-48eb-baed-6c5ea1cb8e47",
   "metadata": {},
   "source": [
    "##### Population"
   ]
  },
  {
   "cell_type": "code",
   "execution_count": 94,
   "id": "7d1e296c-d03b-4d36-a2bb-ee31146d4b90",
   "metadata": {},
   "outputs": [
    {
     "ename": "FileNotFoundError",
     "evalue": "[Errno 2] No such file or directory: '../data/gapminder_population.xlsx'",
     "output_type": "error",
     "traceback": [
      "\u001b[0;31m---------------------------------------------------------------------------\u001b[0m",
      "\u001b[0;31mFileNotFoundError\u001b[0m                         Traceback (most recent call last)",
      "Input \u001b[0;32mIn [94]\u001b[0m, in \u001b[0;36m<cell line: 1>\u001b[0;34m()\u001b[0m\n\u001b[0;32m----> 1\u001b[0m population \u001b[38;5;241m=\u001b[39m \u001b[43mpd\u001b[49m\u001b[38;5;241;43m.\u001b[39;49m\u001b[43mread_excel\u001b[49m\u001b[43m(\u001b[49m\u001b[38;5;124;43m'\u001b[39;49m\u001b[38;5;124;43m../data/gapminder_population.xlsx\u001b[39;49m\u001b[38;5;124;43m'\u001b[39;49m\u001b[43m,\u001b[49m\u001b[43mindex_col\u001b[49m\u001b[38;5;241;43m=\u001b[39;49m\u001b[38;5;241;43m0\u001b[39;49m\u001b[43m)\u001b[49m\n\u001b[1;32m      2\u001b[0m population\u001b[38;5;241m.\u001b[39mhead()\n",
      "File \u001b[0;32m/opt/anaconda3/lib/python3.9/site-packages/pandas/util/_decorators.py:311\u001b[0m, in \u001b[0;36mdeprecate_nonkeyword_arguments.<locals>.decorate.<locals>.wrapper\u001b[0;34m(*args, **kwargs)\u001b[0m\n\u001b[1;32m    305\u001b[0m \u001b[38;5;28;01mif\u001b[39;00m \u001b[38;5;28mlen\u001b[39m(args) \u001b[38;5;241m>\u001b[39m num_allow_args:\n\u001b[1;32m    306\u001b[0m     warnings\u001b[38;5;241m.\u001b[39mwarn(\n\u001b[1;32m    307\u001b[0m         msg\u001b[38;5;241m.\u001b[39mformat(arguments\u001b[38;5;241m=\u001b[39marguments),\n\u001b[1;32m    308\u001b[0m         \u001b[38;5;167;01mFutureWarning\u001b[39;00m,\n\u001b[1;32m    309\u001b[0m         stacklevel\u001b[38;5;241m=\u001b[39mstacklevel,\n\u001b[1;32m    310\u001b[0m     )\n\u001b[0;32m--> 311\u001b[0m \u001b[38;5;28;01mreturn\u001b[39;00m \u001b[43mfunc\u001b[49m\u001b[43m(\u001b[49m\u001b[38;5;241;43m*\u001b[39;49m\u001b[43margs\u001b[49m\u001b[43m,\u001b[49m\u001b[43m \u001b[49m\u001b[38;5;241;43m*\u001b[39;49m\u001b[38;5;241;43m*\u001b[39;49m\u001b[43mkwargs\u001b[49m\u001b[43m)\u001b[49m\n",
      "File \u001b[0;32m/opt/anaconda3/lib/python3.9/site-packages/pandas/io/excel/_base.py:457\u001b[0m, in \u001b[0;36mread_excel\u001b[0;34m(io, sheet_name, header, names, index_col, usecols, squeeze, dtype, engine, converters, true_values, false_values, skiprows, nrows, na_values, keep_default_na, na_filter, verbose, parse_dates, date_parser, thousands, decimal, comment, skipfooter, convert_float, mangle_dupe_cols, storage_options)\u001b[0m\n\u001b[1;32m    455\u001b[0m \u001b[38;5;28;01mif\u001b[39;00m \u001b[38;5;129;01mnot\u001b[39;00m \u001b[38;5;28misinstance\u001b[39m(io, ExcelFile):\n\u001b[1;32m    456\u001b[0m     should_close \u001b[38;5;241m=\u001b[39m \u001b[38;5;28;01mTrue\u001b[39;00m\n\u001b[0;32m--> 457\u001b[0m     io \u001b[38;5;241m=\u001b[39m \u001b[43mExcelFile\u001b[49m\u001b[43m(\u001b[49m\u001b[43mio\u001b[49m\u001b[43m,\u001b[49m\u001b[43m \u001b[49m\u001b[43mstorage_options\u001b[49m\u001b[38;5;241;43m=\u001b[39;49m\u001b[43mstorage_options\u001b[49m\u001b[43m,\u001b[49m\u001b[43m \u001b[49m\u001b[43mengine\u001b[49m\u001b[38;5;241;43m=\u001b[39;49m\u001b[43mengine\u001b[49m\u001b[43m)\u001b[49m\n\u001b[1;32m    458\u001b[0m \u001b[38;5;28;01melif\u001b[39;00m engine \u001b[38;5;129;01mand\u001b[39;00m engine \u001b[38;5;241m!=\u001b[39m io\u001b[38;5;241m.\u001b[39mengine:\n\u001b[1;32m    459\u001b[0m     \u001b[38;5;28;01mraise\u001b[39;00m \u001b[38;5;167;01mValueError\u001b[39;00m(\n\u001b[1;32m    460\u001b[0m         \u001b[38;5;124m\"\u001b[39m\u001b[38;5;124mEngine should not be specified when passing \u001b[39m\u001b[38;5;124m\"\u001b[39m\n\u001b[1;32m    461\u001b[0m         \u001b[38;5;124m\"\u001b[39m\u001b[38;5;124man ExcelFile - ExcelFile already has the engine set\u001b[39m\u001b[38;5;124m\"\u001b[39m\n\u001b[1;32m    462\u001b[0m     )\n",
      "File \u001b[0;32m/opt/anaconda3/lib/python3.9/site-packages/pandas/io/excel/_base.py:1376\u001b[0m, in \u001b[0;36mExcelFile.__init__\u001b[0;34m(self, path_or_buffer, engine, storage_options)\u001b[0m\n\u001b[1;32m   1374\u001b[0m     ext \u001b[38;5;241m=\u001b[39m \u001b[38;5;124m\"\u001b[39m\u001b[38;5;124mxls\u001b[39m\u001b[38;5;124m\"\u001b[39m\n\u001b[1;32m   1375\u001b[0m \u001b[38;5;28;01melse\u001b[39;00m:\n\u001b[0;32m-> 1376\u001b[0m     ext \u001b[38;5;241m=\u001b[39m \u001b[43minspect_excel_format\u001b[49m\u001b[43m(\u001b[49m\n\u001b[1;32m   1377\u001b[0m \u001b[43m        \u001b[49m\u001b[43mcontent_or_path\u001b[49m\u001b[38;5;241;43m=\u001b[39;49m\u001b[43mpath_or_buffer\u001b[49m\u001b[43m,\u001b[49m\u001b[43m \u001b[49m\u001b[43mstorage_options\u001b[49m\u001b[38;5;241;43m=\u001b[39;49m\u001b[43mstorage_options\u001b[49m\n\u001b[1;32m   1378\u001b[0m \u001b[43m    \u001b[49m\u001b[43m)\u001b[49m\n\u001b[1;32m   1379\u001b[0m     \u001b[38;5;28;01mif\u001b[39;00m ext \u001b[38;5;129;01mis\u001b[39;00m \u001b[38;5;28;01mNone\u001b[39;00m:\n\u001b[1;32m   1380\u001b[0m         \u001b[38;5;28;01mraise\u001b[39;00m \u001b[38;5;167;01mValueError\u001b[39;00m(\n\u001b[1;32m   1381\u001b[0m             \u001b[38;5;124m\"\u001b[39m\u001b[38;5;124mExcel file format cannot be determined, you must specify \u001b[39m\u001b[38;5;124m\"\u001b[39m\n\u001b[1;32m   1382\u001b[0m             \u001b[38;5;124m\"\u001b[39m\u001b[38;5;124man engine manually.\u001b[39m\u001b[38;5;124m\"\u001b[39m\n\u001b[1;32m   1383\u001b[0m         )\n",
      "File \u001b[0;32m/opt/anaconda3/lib/python3.9/site-packages/pandas/io/excel/_base.py:1250\u001b[0m, in \u001b[0;36minspect_excel_format\u001b[0;34m(content_or_path, storage_options)\u001b[0m\n\u001b[1;32m   1247\u001b[0m \u001b[38;5;28;01mif\u001b[39;00m \u001b[38;5;28misinstance\u001b[39m(content_or_path, \u001b[38;5;28mbytes\u001b[39m):\n\u001b[1;32m   1248\u001b[0m     content_or_path \u001b[38;5;241m=\u001b[39m BytesIO(content_or_path)\n\u001b[0;32m-> 1250\u001b[0m \u001b[38;5;28;01mwith\u001b[39;00m \u001b[43mget_handle\u001b[49m\u001b[43m(\u001b[49m\n\u001b[1;32m   1251\u001b[0m \u001b[43m    \u001b[49m\u001b[43mcontent_or_path\u001b[49m\u001b[43m,\u001b[49m\u001b[43m \u001b[49m\u001b[38;5;124;43m\"\u001b[39;49m\u001b[38;5;124;43mrb\u001b[39;49m\u001b[38;5;124;43m\"\u001b[39;49m\u001b[43m,\u001b[49m\u001b[43m \u001b[49m\u001b[43mstorage_options\u001b[49m\u001b[38;5;241;43m=\u001b[39;49m\u001b[43mstorage_options\u001b[49m\u001b[43m,\u001b[49m\u001b[43m \u001b[49m\u001b[43mis_text\u001b[49m\u001b[38;5;241;43m=\u001b[39;49m\u001b[38;5;28;43;01mFalse\u001b[39;49;00m\n\u001b[1;32m   1252\u001b[0m \u001b[43m\u001b[49m\u001b[43m)\u001b[49m \u001b[38;5;28;01mas\u001b[39;00m handle:\n\u001b[1;32m   1253\u001b[0m     stream \u001b[38;5;241m=\u001b[39m handle\u001b[38;5;241m.\u001b[39mhandle\n\u001b[1;32m   1254\u001b[0m     stream\u001b[38;5;241m.\u001b[39mseek(\u001b[38;5;241m0\u001b[39m)\n",
      "File \u001b[0;32m/opt/anaconda3/lib/python3.9/site-packages/pandas/io/common.py:795\u001b[0m, in \u001b[0;36mget_handle\u001b[0;34m(path_or_buf, mode, encoding, compression, memory_map, is_text, errors, storage_options)\u001b[0m\n\u001b[1;32m    786\u001b[0m         handle \u001b[38;5;241m=\u001b[39m \u001b[38;5;28mopen\u001b[39m(\n\u001b[1;32m    787\u001b[0m             handle,\n\u001b[1;32m    788\u001b[0m             ioargs\u001b[38;5;241m.\u001b[39mmode,\n\u001b[0;32m   (...)\u001b[0m\n\u001b[1;32m    791\u001b[0m             newline\u001b[38;5;241m=\u001b[39m\u001b[38;5;124m\"\u001b[39m\u001b[38;5;124m\"\u001b[39m,\n\u001b[1;32m    792\u001b[0m         )\n\u001b[1;32m    793\u001b[0m     \u001b[38;5;28;01melse\u001b[39;00m:\n\u001b[1;32m    794\u001b[0m         \u001b[38;5;66;03m# Binary mode\u001b[39;00m\n\u001b[0;32m--> 795\u001b[0m         handle \u001b[38;5;241m=\u001b[39m \u001b[38;5;28;43mopen\u001b[39;49m\u001b[43m(\u001b[49m\u001b[43mhandle\u001b[49m\u001b[43m,\u001b[49m\u001b[43m \u001b[49m\u001b[43mioargs\u001b[49m\u001b[38;5;241;43m.\u001b[39;49m\u001b[43mmode\u001b[49m\u001b[43m)\u001b[49m\n\u001b[1;32m    796\u001b[0m     handles\u001b[38;5;241m.\u001b[39mappend(handle)\n\u001b[1;32m    798\u001b[0m \u001b[38;5;66;03m# Convert BytesIO or file objects passed with an encoding\u001b[39;00m\n",
      "\u001b[0;31mFileNotFoundError\u001b[0m: [Errno 2] No such file or directory: '../data/gapminder_population.xlsx'"
     ]
    }
   ],
   "source": [
    "population = pd.read_excel('../data/gapminder_population.xlsx',index_col=0)\n",
    "population.head()"
   ]
  },
  {
   "cell_type": "code",
   "execution_count": null,
   "id": "70ce161d-497e-45f9-983d-343f648836e9",
   "metadata": {},
   "outputs": [],
   "source": [
    "population.isna().sum()"
   ]
  },
  {
   "cell_type": "code",
   "execution_count": null,
   "id": "8c82a43f-84f2-43a9-b2af-169828caebb1",
   "metadata": {},
   "outputs": [],
   "source": [
    "population.columns"
   ]
  },
  {
   "cell_type": "code",
   "execution_count": null,
   "id": "eaae983f-8805-4a36-9668-9b4089046ff9",
   "metadata": {},
   "outputs": [],
   "source": [
    "# rename population index name\n",
    "population.index.name='country'\n",
    "population.head()"
   ]
  },
  {
   "cell_type": "code",
   "execution_count": null,
   "id": "4c6360ae-9c47-4532-b11c-65101ebed618",
   "metadata": {},
   "outputs": [],
   "source": [
    "# convert the population table into long format\n",
    "population.reset_index(inplace=True)\n",
    "population_long = population.melt(id_vars = 'country', var_name = 'year', value_name = 'population')\n",
    "population_long.head()"
   ]
  },
  {
   "cell_type": "markdown",
   "id": "c632d346-17dd-4c31-8a58-fd4909dfe618",
   "metadata": {},
   "source": [
    "##### Life Expectancy"
   ]
  },
  {
   "cell_type": "code",
   "execution_count": null,
   "id": "732c3b75-612b-4aec-8698-f21f4a5a7fd9",
   "metadata": {},
   "outputs": [],
   "source": [
    "life_exp = pd.read_excel('../data/gapminder_lifeexpectancy.xlsx',index_col=0)\n",
    "life_exp.head()"
   ]
  },
  {
   "cell_type": "code",
   "execution_count": null,
   "id": "6a227e38-8b0a-43cb-b265-6cad3e2a1034",
   "metadata": {},
   "outputs": [],
   "source": [
    "life_exp.isna().sum()"
   ]
  },
  {
   "cell_type": "code",
   "execution_count": null,
   "id": "33cebe68-0a6a-4ab1-b702-cf0e36ae05c7",
   "metadata": {},
   "outputs": [],
   "source": [
    "life_exp.columns"
   ]
  },
  {
   "cell_type": "code",
   "execution_count": null,
   "id": "a4631771-1a91-4413-9c40-a99e8460fe2a",
   "metadata": {},
   "outputs": [],
   "source": [
    "# rename life exp index name\n",
    "life_exp.index.name='country'\n",
    "life_exp.head()"
   ]
  },
  {
   "cell_type": "code",
   "execution_count": null,
   "id": "21fad11f-6d21-41af-a604-1d484a81affa",
   "metadata": {},
   "outputs": [],
   "source": [
    "# convert the life expectancy table into long format\n",
    "life_exp.reset_index(inplace=True)\n",
    "life_exp_long = life_exp.melt(id_vars = 'country', var_name = 'year', value_name = 'life_expectancy')\n",
    "life_exp_long.head()"
   ]
  },
  {
   "cell_type": "markdown",
   "id": "228f0339-ea26-468d-92b7-493f76b94ad3",
   "metadata": {},
   "source": [
    "##### Fertility"
   ]
  },
  {
   "cell_type": "code",
   "execution_count": null,
   "id": "6ba38878-f249-43f4-99ee-e4fe5700e1c4",
   "metadata": {},
   "outputs": [],
   "source": [
    "fertility = pd.read_csv('../data/gapminder_total_fertility.csv',index_col=0)\n",
    "fertility.head()"
   ]
  },
  {
   "cell_type": "code",
   "execution_count": null,
   "id": "4c36083e-23a3-4abc-9ad8-94cc64e5b311",
   "metadata": {},
   "outputs": [],
   "source": [
    "fertility.isna().sum()"
   ]
  },
  {
   "cell_type": "code",
   "execution_count": null,
   "id": "2fbc1189-c1cf-498f-b17b-20d306d8c3ea",
   "metadata": {},
   "outputs": [],
   "source": [
    "fertility.columns"
   ]
  },
  {
   "cell_type": "code",
   "execution_count": null,
   "id": "24d90715-8c24-403c-b9ae-6b0d68aa61e0",
   "metadata": {},
   "outputs": [],
   "source": [
    "# convert fertility columns to int type\n",
    "fertility.columns = fertility.columns.astype(int)\n",
    "fertility.columns"
   ]
  },
  {
   "cell_type": "code",
   "execution_count": null,
   "id": "969b8fdb-6917-4c5b-a6c7-32921324abba",
   "metadata": {},
   "outputs": [],
   "source": [
    "# rename fertility index name\n",
    "fertility.index.name='country'\n",
    "fertility.head()"
   ]
  },
  {
   "cell_type": "code",
   "execution_count": null,
   "id": "cf03c1a0-88c7-47fb-a6c9-083789cee5c4",
   "metadata": {},
   "outputs": [],
   "source": [
    "# convert the fertility table into long format\n",
    "fertility.reset_index(inplace=True)\n",
    "fertility_long = fertility.melt(id_vars = 'country', var_name = 'year', value_name = 'fertility_rate')\n",
    "fertility_long.head()"
   ]
  },
  {
   "cell_type": "markdown",
   "id": "177bea7c-ffeb-4064-bbd6-01061b27ea66",
   "metadata": {},
   "source": [
    "##### Continents"
   ]
  },
  {
   "cell_type": "code",
   "execution_count": null,
   "id": "6b474f68-ab15-4f53-9265-a947f0652b08",
   "metadata": {},
   "outputs": [],
   "source": [
    "continents = pd.read_csv('../data/continents.csv',sep=';')\n",
    "continents.head()"
   ]
  },
  {
   "cell_type": "markdown",
   "id": "a7ebb826-0619-40dc-9729-b2d77cbf4337",
   "metadata": {},
   "source": [
    "### Merge Tables"
   ]
  },
  {
   "cell_type": "code",
   "execution_count": null,
   "id": "f3f5bef2-79b9-4363-9899-0d61965f41a4",
   "metadata": {},
   "outputs": [],
   "source": [
    "df = pd.merge(fertility_long, life_exp_long, how = 'outer', on = ['country','year'])\n",
    "df.head()"
   ]
  },
  {
   "cell_type": "code",
   "execution_count": null,
   "id": "be6708f3-8594-4e00-8f9d-b6bf41ca9c27",
   "metadata": {},
   "outputs": [],
   "source": [
    "df = pd.merge(df,population_long, how='outer',on= ['country','year'] )\n",
    "df.head()"
   ]
  },
  {
   "cell_type": "code",
   "execution_count": null,
   "id": "5c7a3814-3567-4090-be61-d9d2ed685f11",
   "metadata": {},
   "outputs": [],
   "source": [
    "df = pd.merge(df,continents,how ='inner',on='country')\n",
    "df.head()"
   ]
  },
  {
   "cell_type": "code",
   "execution_count": null,
   "id": "72d22179-cd90-4794-a854-f919ed365120",
   "metadata": {},
   "outputs": [],
   "source": [
    "df.dropna(inplace=True)\n",
    "df.head()"
   ]
  },
  {
   "cell_type": "markdown",
   "id": "bb2837a9-6f61-48f9-8797-bc569bac980b",
   "metadata": {},
   "source": [
    "### Exploratory Data Analysis(EDA)"
   ]
  },
  {
   "cell_type": "markdown",
   "id": "39c90e69-ff3c-4d56-a945-505c5e20e7e0",
   "metadata": {},
   "source": [
    "#### Fertility Analysis"
   ]
  },
  {
   "cell_type": "markdown",
   "id": "ec1a7082-ceb9-496b-bc02-2233b10e286a",
   "metadata": {},
   "source": [
    "comparsion of fertility of 4 countries at 1960"
   ]
  },
  {
   "cell_type": "code",
   "execution_count": null,
   "id": "45d3596c-fb56-446a-a11b-536ca366c927",
   "metadata": {},
   "outputs": [],
   "source": [
    "subset = df[df['country'].isin(['Iran','Germany','China','Afghanistan'])]\n",
    "subset.head()"
   ]
  },
  {
   "cell_type": "code",
   "execution_count": null,
   "id": "211c5b43-e925-4727-9963-7cd7e5a9c003",
   "metadata": {},
   "outputs": [],
   "source": [
    "subset_1960 = subset.loc[(subset['year'] == 1960)]\n",
    "sns.barplot(data=subset_1960,x='country',y='fertility_rate');"
   ]
  },
  {
   "cell_type": "markdown",
   "id": "54152ce9-2a87-4e30-9ca8-c0f54e0ba544",
   "metadata": {},
   "source": [
    "comparsion of the fertility of the 4 countries for 3 years "
   ]
  },
  {
   "cell_type": "code",
   "execution_count": null,
   "id": "215f98b6-4df2-4af3-9a3d-b66812b269cd",
   "metadata": {},
   "outputs": [],
   "source": [
    "subset_three_years = subset.loc[(subset['year'].isin([1989,2000,2015]) )]\n",
    "sns.barplot(data=subset_three_years,x='country',y='fertility_rate',hue='year');"
   ]
  },
  {
   "cell_type": "code",
   "execution_count": null,
   "id": "1d7d4c31-70fb-48e3-991d-73a7e0ec047f",
   "metadata": {},
   "outputs": [],
   "source": []
  }
 ],
 "metadata": {
  "kernelspec": {
   "display_name": "Python 3 (ipykernel)",
   "language": "python",
   "name": "python3"
  },
  "language_info": {
   "codemirror_mode": {
    "name": "ipython",
    "version": 3
   },
   "file_extension": ".py",
   "mimetype": "text/x-python",
   "name": "python",
   "nbconvert_exporter": "python",
   "pygments_lexer": "ipython3",
   "version": "3.9.12"
  }
 },
 "nbformat": 4,
 "nbformat_minor": 5
}
